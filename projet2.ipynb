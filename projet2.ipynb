{
 "cells": [
  {
   "cell_type": "markdown",
   "metadata": {},
   "source": [
    "\n",
    "# Projet Maison 2"
   ]
  },
  {
   "cell_type": "code",
   "execution_count": 1,
   "metadata": {
    "scrolled": false
   },
   "outputs": [],
   "source": [
    "# import des modules usuels\n",
    "import json\n",
    "import numpy as np\n",
    "import pandas as pd\n",
    "from descartes import PolygonPatch\n",
    "from matplotlib import pyplot\n",
    "from shapely import geometry\n",
    "\n",
    "# options d'affichage\n",
    "pd.set_option(\"display.min_rows\", 16)"
   ]
  },
  {
   "cell_type": "code",
   "execution_count": 2,
   "metadata": {
    "scrolled": true
   },
   "outputs": [
    {
     "data": {
      "text/html": [
       "<div>\n",
       "<style scoped>\n",
       "    .dataframe tbody tr th:only-of-type {\n",
       "        vertical-align: middle;\n",
       "    }\n",
       "\n",
       "    .dataframe tbody tr th {\n",
       "        vertical-align: top;\n",
       "    }\n",
       "\n",
       "    .dataframe thead th {\n",
       "        text-align: right;\n",
       "    }\n",
       "</style>\n",
       "<table border=\"1\" class=\"dataframe\">\n",
       "  <thead>\n",
       "    <tr style=\"text-align: right;\">\n",
       "      <th></th>\n",
       "      <th>Code Postal</th>\n",
       "      <th>Commune</th>\n",
       "      <th>Département</th>\n",
       "      <th>Région</th>\n",
       "      <th>Statut</th>\n",
       "      <th>Altitude Moyenne</th>\n",
       "      <th>Superficie</th>\n",
       "      <th>Population</th>\n",
       "      <th>geo_point_2d</th>\n",
       "      <th>geo_shape</th>\n",
       "      <th>lat</th>\n",
       "      <th>lon</th>\n",
       "      <th>cp_ville</th>\n",
       "    </tr>\n",
       "    <tr>\n",
       "      <th>Code INSEE</th>\n",
       "      <th></th>\n",
       "      <th></th>\n",
       "      <th></th>\n",
       "      <th></th>\n",
       "      <th></th>\n",
       "      <th></th>\n",
       "      <th></th>\n",
       "      <th></th>\n",
       "      <th></th>\n",
       "      <th></th>\n",
       "      <th></th>\n",
       "      <th></th>\n",
       "      <th></th>\n",
       "    </tr>\n",
       "  </thead>\n",
       "  <tbody>\n",
       "    <tr>\n",
       "      <th>31080</th>\n",
       "      <td>31350</td>\n",
       "      <td>BOULOGNE-SUR-GESSE</td>\n",
       "      <td>HAUTE-GARONNE</td>\n",
       "      <td>MIDI-PYRENEES</td>\n",
       "      <td>Chef-lieu canton</td>\n",
       "      <td>301.0</td>\n",
       "      <td>2470.0</td>\n",
       "      <td>1.6</td>\n",
       "      <td>43.2904403081, 0.650641474176</td>\n",
       "      <td>{\"type\": \"Polygon\", \"coordinates\": [[[0.671852...</td>\n",
       "      <td>43.290440</td>\n",
       "      <td>0.650641</td>\n",
       "      <td>31350 BOULOGNE-SUR-GESSE</td>\n",
       "    </tr>\n",
       "    <tr>\n",
       "      <th>11143</th>\n",
       "      <td>11510</td>\n",
       "      <td>FEUILLA</td>\n",
       "      <td>AUDE</td>\n",
       "      <td>LANGUEDOC-ROUSSILLON</td>\n",
       "      <td>Commune simple</td>\n",
       "      <td>314.0</td>\n",
       "      <td>2426.0</td>\n",
       "      <td>0.1</td>\n",
       "      <td>42.9291375888, 2.90138923544</td>\n",
       "      <td>{\"type\": \"Polygon\", \"coordinates\": [[[2.906996...</td>\n",
       "      <td>42.929138</td>\n",
       "      <td>2.901389</td>\n",
       "      <td>11510 FEUILLA</td>\n",
       "    </tr>\n",
       "    <tr>\n",
       "      <th>43028</th>\n",
       "      <td>43200</td>\n",
       "      <td>BESSAMOREL</td>\n",
       "      <td>HAUTE-LOIRE</td>\n",
       "      <td>AUVERGNE</td>\n",
       "      <td>Commune simple</td>\n",
       "      <td>888.0</td>\n",
       "      <td>743.0</td>\n",
       "      <td>0.4</td>\n",
       "      <td>45.1306448726, 4.07952494849</td>\n",
       "      <td>{\"type\": \"Polygon\", \"coordinates\": [[[4.091674...</td>\n",
       "      <td>45.130645</td>\n",
       "      <td>4.079525</td>\n",
       "      <td>43200 BESSAMOREL</td>\n",
       "    </tr>\n",
       "    <tr>\n",
       "      <th>78506</th>\n",
       "      <td>78660</td>\n",
       "      <td>PRUNAY-EN-YVELINES</td>\n",
       "      <td>YVELINES</td>\n",
       "      <td>ILE-DE-FRANCE</td>\n",
       "      <td>Commune simple</td>\n",
       "      <td>155.0</td>\n",
       "      <td>2717.0</td>\n",
       "      <td>0.8</td>\n",
       "      <td>48.5267627187, 1.80513972814</td>\n",
       "      <td>{\"type\": \"Polygon\", \"coordinates\": [[[1.829610...</td>\n",
       "      <td>48.526763</td>\n",
       "      <td>1.805140</td>\n",
       "      <td>78660 PRUNAY-EN-YVELINES</td>\n",
       "    </tr>\n",
       "    <tr>\n",
       "      <th>84081</th>\n",
       "      <td>84310</td>\n",
       "      <td>MORIERES-LES-AVIGNON</td>\n",
       "      <td>VAUCLUSE</td>\n",
       "      <td>PROVENCE-ALPES-COTE D'AZUR</td>\n",
       "      <td>Commune simple</td>\n",
       "      <td>49.0</td>\n",
       "      <td>1042.0</td>\n",
       "      <td>7.6</td>\n",
       "      <td>43.9337788848, 4.90875878315</td>\n",
       "      <td>{\"type\": \"Polygon\", \"coordinates\": [[[4.927176...</td>\n",
       "      <td>43.933779</td>\n",
       "      <td>4.908759</td>\n",
       "      <td>84310 MORIERES-LES-AVIGNON</td>\n",
       "    </tr>\n",
       "  </tbody>\n",
       "</table>\n",
       "</div>"
      ],
      "text/plain": [
       "           Code Postal               Commune    Département  \\\n",
       "Code INSEE                                                    \n",
       "31080            31350    BOULOGNE-SUR-GESSE  HAUTE-GARONNE   \n",
       "11143            11510               FEUILLA           AUDE   \n",
       "43028            43200            BESSAMOREL    HAUTE-LOIRE   \n",
       "78506            78660    PRUNAY-EN-YVELINES       YVELINES   \n",
       "84081            84310  MORIERES-LES-AVIGNON       VAUCLUSE   \n",
       "\n",
       "                                Région            Statut  Altitude Moyenne  \\\n",
       "Code INSEE                                                                   \n",
       "31080                    MIDI-PYRENEES  Chef-lieu canton             301.0   \n",
       "11143             LANGUEDOC-ROUSSILLON    Commune simple             314.0   \n",
       "43028                         AUVERGNE    Commune simple             888.0   \n",
       "78506                    ILE-DE-FRANCE    Commune simple             155.0   \n",
       "84081       PROVENCE-ALPES-COTE D'AZUR    Commune simple              49.0   \n",
       "\n",
       "            Superficie  Population                   geo_point_2d  \\\n",
       "Code INSEE                                                          \n",
       "31080           2470.0         1.6  43.2904403081, 0.650641474176   \n",
       "11143           2426.0         0.1   42.9291375888, 2.90138923544   \n",
       "43028            743.0         0.4   45.1306448726, 4.07952494849   \n",
       "78506           2717.0         0.8   48.5267627187, 1.80513972814   \n",
       "84081           1042.0         7.6   43.9337788848, 4.90875878315   \n",
       "\n",
       "                                                    geo_shape        lat  \\\n",
       "Code INSEE                                                                 \n",
       "31080       {\"type\": \"Polygon\", \"coordinates\": [[[0.671852...  43.290440   \n",
       "11143       {\"type\": \"Polygon\", \"coordinates\": [[[2.906996...  42.929138   \n",
       "43028       {\"type\": \"Polygon\", \"coordinates\": [[[4.091674...  45.130645   \n",
       "78506       {\"type\": \"Polygon\", \"coordinates\": [[[1.829610...  48.526763   \n",
       "84081       {\"type\": \"Polygon\", \"coordinates\": [[[4.927176...  43.933779   \n",
       "\n",
       "                 lon                    cp_ville  \n",
       "Code INSEE                                        \n",
       "31080       0.650641    31350 BOULOGNE-SUR-GESSE  \n",
       "11143       2.901389               11510 FEUILLA  \n",
       "43028       4.079525            43200 BESSAMOREL  \n",
       "78506       1.805140    78660 PRUNAY-EN-YVELINES  \n",
       "84081       4.908759  84310 MORIERES-LES-AVIGNON  "
      ]
     },
     "execution_count": 2,
     "metadata": {},
     "output_type": "execute_result"
    }
   ],
   "source": [
    "# chargement et traitement des données\n",
    "GEO = pd.read_csv(\"correspondance-code-insee-code-postal.csv\",\n",
    "                   sep=';',\n",
    "                   usecols=range(11),\n",
    "                   index_col=\"Code INSEE\")\n",
    "\n",
    "# A COMPLETER avec les colonnes\n",
    "# - lat, lon : latitude et longitude des communes\n",
    "# - cp_ville : Code Postal + \" \" + \"Commune\"\n",
    "GEO[['lat', 'lon']] = GEO[\"geo_point_2d\"].str.extract(\"(.*), (.*)\").astype(float)\n",
    "GEO['cp_ville'] = GEO['Code Postal'] + \" \" + GEO['Commune']\n",
    "GEO.head()"
   ]
  },
  {
   "cell_type": "markdown",
   "metadata": {},
   "source": [
    "**Partie A**\n",
    "\n",
    "- Compléter le chargement des données en ajoutant au dataframe `GEO`\n",
    "    - les colonnes \"lat\" et \"lon\" avec la latitude et la longitude des communes\n",
    "    - une colonne \"cp_ville\" avec le Code Postal + un espace + et le nom de la Commune\n",
    "- Ecrire une fonction `search_city(lat, lon)` qui retourne le \"cp_ville\" de la commune la plus proche d'un point à partir de sa latitude et sa longitude.\n",
    "- Ecrire une fonction `dms2dec(deg, min, sec)` qui convertit les degrés, minutes, secondes en valeur numérique pour pouvoir utiliser la fonction précédente avec un GPS."
   ]
  },
  {
   "cell_type": "code",
   "execution_count": 3,
   "metadata": {
    "scrolled": false
   },
   "outputs": [],
   "source": [
    "# fonction recherche de ville\n",
    "def search_city(lat, lon):\n",
    "    # Convertit en array pour optimiser les calcules avec numpy\n",
    "    vectors = np.array([lat - GEO['lat'], lon - GEO['lon']]).transpose()\n",
    "    # Calcule la distance du point (lat,lon) avec chacun des points du DataFrame\n",
    "    distance = np.linalg.norm(vectors, axis=1)\n",
    "    # Récupère l'index pour faire la correspondance avec le DataFrame GEO\n",
    "    index_min = np.argmin(distance)\n",
    "    \n",
    "    return GEO.iloc[index_min]['cp_ville']"
   ]
  },
  {
   "cell_type": "code",
   "execution_count": 4,
   "metadata": {
    "scrolled": false
   },
   "outputs": [],
   "source": [
    "# conversion degrés, minutes, secondes => décimal\n",
    "def dms2dec(deg, mn, sec):\n",
    "    return float(deg) + float(mn)/60 + float(sec)/3600"
   ]
  },
  {
   "cell_type": "code",
   "execution_count": 5,
   "metadata": {
    "scrolled": false
   },
   "outputs": [
    {
     "data": {
      "text/plain": [
       "'71330 BOSJEAN'"
      ]
     },
     "execution_count": 5,
     "metadata": {},
     "output_type": "execute_result"
    }
   ],
   "source": [
    "# on applique la fonction à une coordonnée tirée au hasard\n",
    "np.random.seed(0)\n",
    "a, b = 41.5, 51.1  # latitude min et max de la France métropolitaine\n",
    "lat = np.random.uniform(a, b)\n",
    "a, b = -5.1, 9.5  # longitude min et max de la France métropolitaine\n",
    "lon = np.random.uniform(a, b)\n",
    "\n",
    "search_city(lat, lon)"
   ]
  },
  {
   "cell_type": "code",
   "execution_count": 6,
   "metadata": {
    "scrolled": false
   },
   "outputs": [
    {
     "data": {
      "text/plain": [
       "'91120 PALAISEAU'"
      ]
     },
     "execution_count": 6,
     "metadata": {},
     "output_type": "execute_result"
    }
   ],
   "source": [
    "# à partir de coordonnées GPS précises\n",
    "search_city(dms2dec(48, 42, 52), dms2dec(2, 14, 45))"
   ]
  },
  {
   "cell_type": "markdown",
   "metadata": {},
   "source": [
    "**Partie B**\n",
    "\n",
    "La colonne \"geo_shape\" comporte des chaines de catactères au format JSON. Elles représentent les formes géométriques des communes qui sont soit des polygones soit composées de plusieurs polygones.\n",
    "\n",
    "- Utiliser la librairie Python **json** pour parser les valeurs de la colonne \"geo_shape\" et mettre le résultat (`Series`) dans la variable `GEO_SHAPE`.\n",
    "- Ecrire une fonction `get_types()` qui retourne le décompte (`value_counts()`) des valeurs accédées avec la clé \"type\".\n",
    "- Ecrire une fonction `get_coordinates_len()` qui retourne le décompte (`value_counts()`) des longueurs des listes accédées avec la clé \"coordinates\".\n",
    "- Ecrire une fonction `get_most_complex_city()` qui retourne la commune est constituée du plus grand nombre de polygones ?\n",
    "- Ecrire une fonction `get_nb_cities_2_polygons()` qui retourne  le nombre de villes qui sont de type \"Polygon\" mais dont la longueur des listes accédées avec la clé \"coordinates\" vaut 2 ?\n",
    "- **Facultatif :**\n",
    "- Pour ces villes vérifier que le premier polygone contient bien le second (enclave). NB : on pourra installer la librairie **shapely**, utiliser la classe Polygon de **shapely.geometry**  et la méthode `contains()`. Sur Windows **shapely** peut nécessiter d'installer manuellement la dll \"geos_c.dll\" dans le répertoire \"Library/bin\" de votre environnement Python."
   ]
  },
  {
   "cell_type": "code",
   "execution_count": 7,
   "metadata": {},
   "outputs": [
    {
     "data": {
      "text/plain": [
       "Code INSEE\n",
       "31080    {'type': 'Polygon', 'coordinates': [[[0.671852...\n",
       "11143    {'type': 'Polygon', 'coordinates': [[[2.906996...\n",
       "43028    {'type': 'Polygon', 'coordinates': [[[4.091674...\n",
       "78506    {'type': 'Polygon', 'coordinates': [[[1.829610...\n",
       "84081    {'type': 'Polygon', 'coordinates': [[[4.927176...\n",
       "Name: geo_shape, dtype: object"
      ]
     },
     "execution_count": 7,
     "metadata": {},
     "output_type": "execute_result"
    }
   ],
   "source": [
    "# GEO_SHAPE\n",
    "\n",
    "# La variable GEO_SHAPE doit contenir une Serie\n",
    "# correspondant aux valeurs de la colonne \"geo_shape\" parsées avec la librairie json\n",
    "GEO_SHAPE = pd.Series(dtype=object)\n",
    "GEO_SHAPE = GEO[\"geo_shape\"].apply(json.loads)\n",
    "GEO_SHAPE.head()"
   ]
  },
  {
   "cell_type": "code",
   "execution_count": 8,
   "metadata": {},
   "outputs": [],
   "source": [
    "# value_counts des valeurs \"type\"\n",
    "def get_types():\n",
    "    return GEO_SHAPE.apply(lambda x: x[\"type\"]).value_counts()"
   ]
  },
  {
   "cell_type": "code",
   "execution_count": 9,
   "metadata": {},
   "outputs": [],
   "source": [
    "# value_counts des longueurs de \"coordinates\"\n",
    "def get_coordinates_len():\n",
    "     return GEO_SHAPE.apply(lambda x: x[\"coordinates\"]).str.len().value_counts()"
   ]
  },
  {
   "cell_type": "code",
   "execution_count": 10,
   "metadata": {},
   "outputs": [],
   "source": [
    "# commune constituée du plus grand nombre de polygones\n",
    "def get_most_complex_city():\n",
    "    index_max = GEO_SHAPE.apply(lambda x: x[\"coordinates\"]).str.len().idxmax()\n",
    "    return GEO.loc[index_max]['cp_ville']"
   ]
  },
  {
   "cell_type": "code",
   "execution_count": 11,
   "metadata": {},
   "outputs": [],
   "source": [
    "# commune constituée du plus grand nombre de polygones\n",
    "def get_nb_cities_2_polygons():\n",
    "    polygons = GEO_SHAPE.apply(lambda x: x[\"type\"]) == \"Polygon\"\n",
    "    two_coordinates = GEO_SHAPE.apply(lambda x: x[\"coordinates\"]).str.len() == 2\n",
    "    return len(GEO_SHAPE[polygons & two_coordinates])"
   ]
  },
  {
   "cell_type": "code",
   "execution_count": 12,
   "metadata": {},
   "outputs": [],
   "source": [
    "# tests\n",
    "import unittest\n",
    "\n",
    "class Session2Test(unittest.TestCase):\n",
    "    \n",
    "    def test_partie_A1(self):\n",
    "        # on applique la fonction cherche_ville() à une coordonnée tirée au hasard\n",
    "        np.random.seed(0)\n",
    "        a, b = 41.5, 51.1  # latitude min et max de la France métropolitaine\n",
    "        lat = np.random.uniform(a, b)\n",
    "        a, b = -5.1, 9.5  # longitude min et max de la France métropolitaine\n",
    "        lon = np.random.uniform(a, b)\n",
    "\n",
    "        cp_ville = search_city(lat, lon)\n",
    "        self.assertEqual(cp_ville, \"71330 BOSJEAN\")\n",
    "        \n",
    "    def test_partie_A2(self):\n",
    "        # à partir de coordonnées GPS précises\n",
    "        cp_ville = search_city(dms2dec(48, 42, 52), dms2dec(2, 14, 45))\n",
    "        self.assertEqual(cp_ville, \"91120 PALAISEAU\")\n",
    "        \n",
    "    def test_partie_B1(self):\n",
    "        # check types\n",
    "        dico = get_types()\n",
    "        self.assertEqual(dico[\"Polygon\"], 36670)\n",
    "        self.assertEqual(dico[\"MultiPolygon\"], 72)\n",
    "        \n",
    "    def test_partie_B2(self):\n",
    "        # check coordinates len\n",
    "        dico = get_coordinates_len()\n",
    "        self.assertEqual(dico[1], 36660)\n",
    "        self.assertEqual(dico[2], 80)\n",
    "       \n",
    "    def test_partie_B3(self):\n",
    "        # check most complex city\n",
    "        cp_ville = get_most_complex_city()\n",
    "        self.assertEqual(cp_ville, \"83400 HYERES\")\n",
    "        \n",
    "    def test_partie_B4(self):\n",
    "        # check nb cities 2 polygons\n",
    "        nb = get_nb_cities_2_polygons()\n",
    "        self.assertEqual(nb, 10)"
   ]
  },
  {
   "cell_type": "code",
   "execution_count": 13,
   "metadata": {},
   "outputs": [
    {
     "name": "stderr",
     "output_type": "stream",
     "text": [
      "test_partie_A1 (__main__.Session2Test) ... ok\n",
      "test_partie_A2 (__main__.Session2Test) ... ok\n",
      "test_partie_B1 (__main__.Session2Test) ... ok\n",
      "test_partie_B2 (__main__.Session2Test) ... ok\n",
      "test_partie_B3 (__main__.Session2Test) ... ok\n",
      "test_partie_B4 (__main__.Session2Test) ... ok\n",
      "\n",
      "----------------------------------------------------------------------\n",
      "Ran 6 tests in 0.126s\n",
      "\n",
      "OK\n"
     ]
    }
   ],
   "source": [
    "# run tests\n",
    "def run_tests():\n",
    "    test_suite = unittest.makeSuite(Session2Test)\n",
    "    runner = unittest.TextTestRunner(verbosity=2)\n",
    "    runner.run(test_suite)\n",
    "    \n",
    "run_tests()"
   ]
  },
  {
   "cell_type": "markdown",
   "metadata": {},
   "source": [
    "**Partie facultative**"
   ]
  },
  {
   "cell_type": "code",
   "execution_count": 14,
   "metadata": {},
   "outputs": [],
   "source": [
    "# villes qui sont de type \"Polygon\" mais dont la longueur des listes accédées avec la clé \"coordinates\" vaut 2\n",
    "def get_cities_2_polygons():\n",
    "    polygons = GEO_SHAPE.apply(lambda x: x[\"type\"]) == \"Polygon\"\n",
    "    two_coordinates = GEO_SHAPE.apply(lambda x: x[\"coordinates\"]).str.len() == 2\n",
    "    return GEO_SHAPE[polygons & two_coordinates]\n",
    "\n",
    "def check_first_poly_contains_second(index,city):\n",
    "    print(GEO.loc[index]['cp_ville'])\n",
    "    outer = city['coordinates'][0]\n",
    "    polygon1 = geometry.Polygon(outer)\n",
    "    inner = city['coordinates'][1]\n",
    "    polygon2 = geometry.Polygon(inner)\n",
    "    if polygon1.contains(polygon2):\n",
    "        print(\"Le premier polygone contient bien le second (1er polygone en vert, second en blanc)\")\n",
    "        return geometry.Polygon(outer, [inner])\n",
    "    else:\n",
    "        print(\"Le premier polygone ne contient pas le second !\")"
   ]
  },
  {
   "cell_type": "code",
   "execution_count": 15,
   "metadata": {},
   "outputs": [
    {
     "name": "stdout",
     "output_type": "stream",
     "text": [
      "20100 SARTENE\n",
      "Le premier polygone contient bien le second (1er polygone en vert, second en blanc)\n"
     ]
    },
    {
     "data": {
      "image/svg+xml": [
       "<svg xmlns=\"http://www.w3.org/2000/svg\" xmlns:xlink=\"http://www.w3.org/1999/xlink\" width=\"100.0\" height=\"100.0\" viewBox=\"8.769644108147737 41.47739550217088 0.3264683332182994 0.19603352595181178\" preserveAspectRatio=\"xMinYMin meet\"><g transform=\"matrix(1,0,0,-1,0,83.15082453029356)\"><path fill-rule=\"evenodd\" fill=\"#66cc99\" stroke=\"#555555\" stroke-width=\"0.0065293666643659876\" opacity=\"0.6\" d=\"M 8.940487655060174,41.490088793265336 L 8.934937462138254,41.49565270292753 L 8.927899319670562,41.48994606172528 L 8.921207232760445,41.489486921919706 L 8.921187933487062,41.500320068461065 L 8.914035115528598,41.508215352905424 L 8.885455325883822,41.50497027991917 L 8.882814612539892,41.50817084006419 L 8.888948281539617,41.51601127342003 L 8.875971038430468,41.52479792084881 L 8.856037152078967,41.518772679035685 L 8.84427072815132,41.51802445810708 L 8.841734612209835,41.5241353007439 L 8.85219421925349,41.534807201493315 L 8.851779518896077,41.541646449951365 L 8.839596840955709,41.54583687311704 L 8.821236682463267,41.54646099726652 L 8.812014236662334,41.553851273567055 L 8.807601327509571,41.556643719771444 L 8.789121830263063,41.55669240054682 L 8.786347135443387,41.5636253083039 L 8.79929081570752,41.57313040790262 L 8.790250864413634,41.58502862312804 L 8.781735527896563,41.58514676972612 L 8.781873174006089,41.587660330215634 L 8.792820333277973,41.593512897797645 L 8.814283737787157,41.58758121381912 L 8.841381020725203,41.583969935113394 L 8.858427544028359,41.58800861931877 L 8.872038324504796,41.58701408094366 L 8.89760911675143,41.594945963574574 L 8.90111039799125,41.60503321220067 L 8.920219927987851,41.61482722344442 L 8.921864712173143,41.62526208844351 L 8.914045473877383,41.63372668219506 L 8.919936432368445,41.64232866633026 L 8.918908117764598,41.65520205274961 L 8.927923456086974,41.65517122249479 L 8.951992496954169,41.64733525978776 L 8.969826614699436,41.64867417871037 L 8.972057338536056,41.65161860439834 L 8.974047839975858,41.65444156579924 L 8.986515144301611,41.656001720950115 L 8.991187274346984,41.66133760837386 L 8.999541102816641,41.660572829774885 L 9.001174824342153,41.65194116904211 L 8.996448423023212,41.646545829382006 L 9.010205854614961,41.63127714371857 L 8.992913879794878,41.619854365525384 L 8.996721910265524,41.60343486959253 L 9.023205357162729,41.59932517421176 L 9.041223334421797,41.610097466529446 L 9.045780928116923,41.6094839062743 L 9.05615725179059,41.60322979549594 L 9.061212553213215,41.59401253629773 L 9.071323036527572,41.587429901578886 L 9.084021021617211,41.584100766524045 L 9.077721415221102,41.57929595764477 L 9.075764301760769,41.572618386802496 L 9.038752952165023,41.5701524522343 L 9.020935882737628,41.558874156172315 L 9.013588814441116,41.546156223287575 L 8.989648351386203,41.529551256481966 L 8.975143899699017,41.51157621319622 L 8.958571872971154,41.50617997549443 L 8.940487655060174,41.490088793265336 z M 8.941260735038032,41.57150230232211 L 8.942277874904523,41.571480738582906 L 8.942763827346164,41.57154327586392 L 8.943080810719337,41.571714437308366 L 8.943631745395875,41.57230460274086 L 8.944713043806921,41.57184712865541 L 8.949242608066626,41.57193266775663 L 8.952278211719289,41.57397586915399 L 8.952465001809696,41.57464067952894 L 8.95303763497504,41.57496841751608 L 8.95388428218478,41.57492039298565 L 8.95432326471979,41.57511161961331 L 8.95466441439895,41.575641595610286 L 8.956838872353735,41.576274664086355 L 8.959853303471418,41.57917440959757 L 8.961078407842097,41.57883467485511 L 8.964428497776014,41.5769693322598 L 8.964671508032955,41.577000550211565 L 8.965645497712723,41.57762061018827 L 8.966099026947328,41.57736068777542 L 8.968980827836893,41.57917806667823 L 8.96953298222597,41.580371426294604 L 8.974419016406596,41.580534709097975 L 8.9766038127131,41.58126586895026 L 8.978963846151514,41.58135660676541 L 8.980815129322655,41.581872532803104 L 8.981703489303452,41.58223617485721 L 8.981737315095115,41.58435059631991 L 8.98142942113634,41.58545783783327 L 8.98117199144571,41.58587776554061 L 8.980731134062927,41.58626311455579 L 8.979516684410594,41.58682761620149 L 8.976516888215908,41.59382482552767 L 8.974103259544252,41.5942774009214 L 8.97313998274517,41.59483653474546 L 8.972068293606618,41.59729304516485 L 8.972157057430909,41.59805349094452 L 8.969745760198544,41.59805553408709 L 8.967792843739192,41.59772527196849 L 8.967017456341972,41.59776934213914 L 8.966224676536228,41.59835474134806 L 8.965697845447739,41.59788935952745 L 8.965266783672035,41.59777876505295 L 8.964968556895105,41.59779570863435 L 8.964391770882727,41.598143677499294 L 8.962695513816628,41.597978856629574 L 8.961106637376552,41.59887959468793 L 8.960190284572207,41.59871547912981 L 8.959135383706315,41.59908155139101 L 8.957745465078522,41.59898031418021 L 8.956401531998672,41.5993357409191 L 8.955740902598613,41.59932818764643 L 8.955002598297245,41.599144921878136 L 8.953964213476025,41.59848335604218 L 8.952863540558727,41.5982755963659 L 8.952797221355766,41.59642419237873 L 8.951321003165088,41.59737242108469 L 8.94849491563224,41.597901803823774 L 8.946250603539886,41.59884844221975 L 8.945991719676343,41.59985372093635 L 8.945009189499853,41.6002245532319 L 8.944076133183394,41.60108788392561 L 8.943271661140335,41.60096231564345 L 8.94265406117808,41.59553088837188 L 8.944382440949989,41.594703595128344 L 8.946086669667773,41.59447200619262 L 8.947637174539212,41.593069368658426 L 8.944440464419504,41.59181853953772 L 8.942251463696323,41.590447550779714 L 8.939062781758611,41.58987153065858 L 8.937507194638089,41.58883384358331 L 8.938244088077317,41.588287859670814 L 8.938625098301737,41.586825440011935 L 8.940391642986032,41.58518556426594 L 8.939849394133882,41.58300992798955 L 8.939032837336631,41.58264188347632 L 8.939415518965216,41.5816746681683 L 8.93883724254658,41.58009543063011 L 8.937586865167873,41.57492508650136 L 8.935998118585381,41.574150448244794 L 8.934843724928088,41.57399960517799 L 8.934492381147335,41.57360523129058 L 8.935495440850206,41.57332337974671 L 8.936483315845472,41.57241201097221 L 8.93791422901711,41.57233106431231 L 8.941260735038032,41.57150230232211 z\" /></g></svg>"
      ],
      "text/plain": [
       "<shapely.geometry.polygon.Polygon at 0x7f3dc2eea0a0>"
      ]
     },
     "metadata": {},
     "output_type": "display_data"
    },
    {
     "name": "stdout",
     "output_type": "stream",
     "text": [
      "48300 LANGOGNE\n",
      "Le premier polygone contient bien le second (1er polygone en vert, second en blanc)\n"
     ]
    },
    {
     "data": {
      "image/svg+xml": [
       "<svg xmlns=\"http://www.w3.org/2000/svg\" xmlns:xlink=\"http://www.w3.org/1999/xlink\" width=\"100.0\" height=\"100.0\" viewBox=\"3.7868481233570765 44.683977851819925 0.09376270296273193 0.07413248848524034\" preserveAspectRatio=\"xMinYMin meet\"><g transform=\"matrix(1,0,0,-1,0,89.44208819212508)\"><path fill-rule=\"evenodd\" fill=\"#66cc99\" stroke=\"#555555\" stroke-width=\"0.0018752540592546385\" opacity=\"0.6\" d=\"M 3.850531831651621,44.68745054452225 L 3.841797319218708,44.68992121193551 L 3.835414561952019,44.702079092055754 L 3.809299991076912,44.69887880511517 L 3.81011269784627,44.70886658913203 L 3.796992491197599,44.71762305033686 L 3.7903208160594,44.73710022848897 L 3.791996159461473,44.74664093608505 L 3.805820420015999,44.74771171118465 L 3.812621618189193,44.752361872171655 L 3.825219048975053,44.748919460501746 L 3.829914990945916,44.75463764760284 L 3.839418691548341,44.747120131946 L 3.862527328127106,44.743872437148596 L 3.875635603121645,44.73947491433879 L 3.877138133617485,44.736185735657685 L 3.863182979295896,44.71908066005584 L 3.863127621411198,44.71217543665072 L 3.86992027570744,44.70725141446061 L 3.869647744005664,44.69696264049236 L 3.854383929195778,44.69262482228565 L 3.850531831651621,44.68745054452225 z M 3.838978435655126,44.72437162983958 L 3.839737703742075,44.724473917275645 L 3.840673389016289,44.727086827891696 L 3.839587337741365,44.730480372379795 L 3.840058776123262,44.73160223337823 L 3.839891907835185,44.73226975670422 L 3.838714538835213,44.73293593207754 L 3.835261393382789,44.733457215513106 L 3.835541184066815,44.731033168931546 L 3.836491817378249,44.729558427445625 L 3.837242972678613,44.726563600185315 L 3.838978435655126,44.72437162983958 z\" /></g></svg>"
      ],
      "text/plain": [
       "<shapely.geometry.polygon.Polygon at 0x7f3dc2eea370>"
      ]
     },
     "metadata": {},
     "output_type": "display_data"
    },
    {
     "name": "stdout",
     "output_type": "stream",
     "text": [
      "09240 LA BASTIDE-DE-SEROU\n",
      "Le premier polygone contient bien le second (1er polygone en vert, second en blanc)\n"
     ]
    },
    {
     "data": {
      "image/svg+xml": [
       "<svg xmlns=\"http://www.w3.org/2000/svg\" xmlns:xlink=\"http://www.w3.org/1999/xlink\" width=\"100.0\" height=\"100.0\" viewBox=\"1.3554050684729306 42.99022729701679 0.14259373630896177 0.06904609917246773\" preserveAspectRatio=\"xMinYMin meet\"><g transform=\"matrix(1,0,0,-1,0,86.04950069320604)\"><path fill-rule=\"evenodd\" fill=\"#66cc99\" stroke=\"#555555\" stroke-width=\"0.0028518747261792356\" opacity=\"0.6\" d=\"M 1.423960819701936,42.99550854650971 L 1.411792714861253,43.00488253979556 L 1.403937548161726,43.001725863107275 L 1.385878842075131,43.00194214548953 L 1.379235936920859,42.99756947016916 L 1.37432998594885,43.00076974195235 L 1.370418672031744,43.0060628185071 L 1.373373491016677,43.014761154681835 L 1.369671458190615,43.02085804894271 L 1.360856542995069,43.023026991342206 L 1.360686317965855,43.02644271979021 L 1.383458331716887,43.030718270866814 L 1.390726403524921,43.03966087159138 L 1.386199430483873,43.04588105974773 L 1.399999951715563,43.05378737447278 L 1.408961291720428,43.05399214669633 L 1.407354360684721,43.047302593590814 L 1.411197335772547,43.04537134667973 L 1.436964674524814,43.05268417976549 L 1.451826248398063,43.045081779011184 L 1.463969990713715,43.04779248146316 L 1.472708161208548,43.04573090302263 L 1.484104793194871,43.035322371174544 L 1.492717555288968,43.03326645605297 L 1.492100415478533,43.024001632437525 L 1.482200597747997,43.013931684279974 L 1.460878815301722,43.013197008705816 L 1.454097047177549,43.00182874821834 L 1.451179690042934,42.9995559756382 L 1.423960819701936,42.99550854650971 z M 1.432086333627394,43.0221994067905 L 1.433383916231297,43.02227227846823 L 1.436547681842339,43.023154864582395 L 1.444442001898819,43.02548213940902 L 1.447376513042828,43.027611451190076 L 1.446642438149623,43.034410400785085 L 1.437820939174288,43.03640565454491 L 1.426942402919642,43.03419623322527 L 1.426204135516343,43.03293506581815 L 1.424487317447682,43.03203738385549 L 1.421563243904244,43.031346862016136 L 1.421340397309294,43.02917568152753 L 1.422377017095379,43.02758069418445 L 1.424125130284729,43.02551936289721 L 1.427732708298322,43.023152363335576 L 1.432086333627394,43.0221994067905 z\" /></g></svg>"
      ],
      "text/plain": [
       "<shapely.geometry.polygon.Polygon at 0x7f3dc2eea5e0>"
      ]
     },
     "metadata": {},
     "output_type": "display_data"
    },
    {
     "name": "stdout",
     "output_type": "stream",
     "text": [
      "71270 BEAUVERNOIS\n",
      "Le premier polygone contient bien le second (1er polygone en vert, second en blanc)\n"
     ]
    },
    {
     "data": {
      "image/svg+xml": [
       "<svg xmlns=\"http://www.w3.org/2000/svg\" xmlns:xlink=\"http://www.w3.org/1999/xlink\" width=\"100.0\" height=\"100.0\" viewBox=\"5.408104985893845 46.82466966680016 0.05702938633101251 0.038040909192737615\" preserveAspectRatio=\"xMinYMin meet\"><g transform=\"matrix(1,0,0,-1,0,93.68738024279307)\"><path fill-rule=\"evenodd\" fill=\"#66cc99\" stroke=\"#555555\" stroke-width=\"0.0011405877266202503\" opacity=\"0.6\" d=\"M 5.416652515196548,46.826781866293906 L 5.410217185387586,46.83258296867396 L 5.420315317360915,46.83238893904201 L 5.4210495987404,46.842651682831224 L 5.430777156366951,46.850247547468136 L 5.425167801869602,46.85986038128268 L 5.431176175798011,46.860598376499155 L 5.442338690125863,46.85447973708301 L 5.441118503660087,46.859162808460354 L 5.445187534123193,46.85940972021739 L 5.459286424114921,46.855244785634916 L 5.458277821223208,46.84546545916178 L 5.462623036293612,46.839679351300234 L 5.458995651363518,46.83033436991658 L 5.463022172731116,46.828536649641606 L 5.416652515196548,46.826781866293906 z M 5.444408211041707,46.8453466070431 L 5.444749932109222,46.84564562224377 L 5.445922283574964,46.84544054149433 L 5.446746370201745,46.84595449814139 L 5.447837581597633,46.84569707465731 L 5.448475519893023,46.84644919129407 L 5.447831890840281,46.84673313108493 L 5.448688973607624,46.847976031189276 L 5.447390797290806,46.84801266119818 L 5.446626137127171,46.848524371172125 L 5.446155216907339,46.849435196363274 L 5.442904010290795,46.8498375725523 L 5.443689348883332,46.85094690907965 L 5.44199053468993,46.85112710628711 L 5.441974586163395,46.85193817373032 L 5.441712226391397,46.85194374152597 L 5.441095006027527,46.85165056254936 L 5.440311737993115,46.85058620601237 L 5.43983008254349,46.848929922699845 L 5.440846066291361,46.84845796845356 L 5.442091789160087,46.848422525956835 L 5.440781992555936,46.84616226075196 L 5.441550731533636,46.845740584304075 L 5.443001257291627,46.84588094645408 L 5.444408211041707,46.8453466070431 z\" /></g></svg>"
      ],
      "text/plain": [
       "<shapely.geometry.polygon.Polygon at 0x7f3dc2eeaf40>"
      ]
     },
     "metadata": {},
     "output_type": "display_data"
    },
    {
     "name": "stdout",
     "output_type": "stream",
     "text": [
      "22650 PLOUBALAY\n",
      "Le premier polygone contient bien le second (1er polygone en vert, second en blanc)\n"
     ]
    },
    {
     "data": {
      "image/svg+xml": [
       "<svg xmlns=\"http://www.w3.org/2000/svg\" xmlns:xlink=\"http://www.w3.org/1999/xlink\" width=\"100.0\" height=\"100.0\" viewBox=\"-2.1795240741415007 48.52491468158767 0.10925428307413743 0.07665784034636403\" preserveAspectRatio=\"xMinYMin meet\"><g transform=\"matrix(1,0,0,-1,0,97.12648720352169)\"><path fill-rule=\"evenodd\" fill=\"#66cc99\" stroke=\"#555555\" stroke-width=\"0.0021850856614827486\" opacity=\"0.6\" d=\"M -2.11237709725211,48.52896113651634 L -2.141587392052613,48.52940342471556 L -2.150191104348408,48.53256431359094 L -2.166911787766973,48.54079865058159 L -2.175477619212829,48.55727450025203 L -2.166593355699123,48.56467475872456 L -2.16711023067735,48.57720074171378 L -2.16469718587925,48.58028047204041 L -2.156706670584626,48.58770387953187 L -2.143551268591811,48.588508295098514 L -2.135121390580411,48.596066214940734 L -2.12594190901669,48.59752606700536 L -2.124900386740514,48.593415422988386 L -2.094322055529732,48.57175294679561 L -2.080555468796356,48.568042668487585 L -2.074316245996035,48.552020838321546 L -2.084031307908226,48.55125383391317 L -2.08896106637863,48.54176699957834 L -2.098851786947083,48.54031507851242 L -2.105528191122636,48.53151852291886 L -2.110540372269751,48.53211418679354 L -2.11237709725211,48.52896113651634 z M -2.142268412161403,48.53647758303466 L -2.139800333487573,48.53774734980556 L -2.141759417238607,48.54055626212934 L -2.14379001580036,48.53911610368169 L -2.144206980055922,48.53838587378045 L -2.143631585029933,48.537365088092486 L -2.142268412161403,48.53647758303466 z\" /></g></svg>"
      ],
      "text/plain": [
       "<shapely.geometry.polygon.Polygon at 0x7f3dc2eeae50>"
      ]
     },
     "metadata": {},
     "output_type": "display_data"
    },
    {
     "name": "stdout",
     "output_type": "stream",
     "text": [
      "02600 COYOLLES\n",
      "Le premier polygone contient bien le second (1er polygone en vert, second en blanc)\n"
     ]
    },
    {
     "data": {
      "image/svg+xml": [
       "<svg xmlns=\"http://www.w3.org/2000/svg\" xmlns:xlink=\"http://www.w3.org/1999/xlink\" width=\"100.0\" height=\"100.0\" viewBox=\"2.9541795802374957 49.1646536805695 0.12309373402238677 0.08598653109093846\" preserveAspectRatio=\"xMinYMin meet\"><g transform=\"matrix(1,0,0,-1,0,98.41529389222994)\"><path fill-rule=\"evenodd\" fill=\"#66cc99\" stroke=\"#555555\" stroke-width=\"0.0024618746804477352\" opacity=\"0.6\" d=\"M 3.037897560658703,49.16921270775551 L 3.022651486402025,49.170816855142384 L 3.016004215046372,49.17997922335811 L 2.991714837684887,49.19196418704024 L 2.98137479741421,49.1844740569323 L 2.971813659157835,49.187528930723204 L 2.969496165186601,49.20994111330158 L 2.970866610714616,49.21304305603823 L 2.95873860742351,49.22660554534713 L 2.964349025205721,49.231911431076426 L 3.001619992136874,49.23565651032947 L 3.013095594217706,49.229218996200984 L 3.008290195644244,49.22338489957146 L 3.017032136166848,49.21975199592734 L 3.026996333441546,49.22011876947888 L 3.039328911223897,49.23046290137869 L 3.033310889856941,49.243338284278906 L 3.040777749481918,49.239928826200895 L 3.04971736146969,49.24144476338487 L 3.055118307185106,49.24608118447443 L 3.055004734193956,49.24258418221722 L 3.064571289474025,49.23964873656758 L 3.072714287073868,49.23075304901955 L 3.052139968025862,49.20662530669365 L 3.043415415215641,49.20904712653231 L 3.034837158984639,49.20577748117517 L 3.030573868321318,49.2123504581126 L 3.015686091213985,49.21631796213402 L 3.005036414223186,49.21475459701353 L 2.998710147692223,49.209603340127174 L 3.004238336940103,49.18873686279621 L 3.007968795605103,49.18630028280298 L 3.026473310272094,49.19039724420592 L 3.029706755691785,49.183941400027884 L 3.035069112616855,49.18361630357866 L 3.037897560658703,49.16921270775551 z M 2.990229852868242,49.21067278093545 L 2.99173924263292,49.21094259867831 L 2.99237029225041,49.212102370238355 L 2.994510973947351,49.21236320103747 L 2.994895312224669,49.21128439969281 L 2.995320699618854,49.2113203775856 L 2.995471570030759,49.21217444785053 L 2.996926047646753,49.214008482361464 L 2.997886659592982,49.213963552371006 L 2.998723735567168,49.215033389320084 L 2.999698085937232,49.21538401042063 L 2.999492229703745,49.21596836732177 L 2.998339443506598,49.21629200100915 L 2.99779047770678,49.21679543829449 L 2.997666935654091,49.21742474322735 L 2.998160942001182,49.21895306773486 L 2.998298180698529,49.21908792104464 L 3.002758580764577,49.218836179062684 L 3.002566483188039,49.21969024129158 L 3.000398033661308,49.22266597998578 L 2.998078425788274,49.223538000078385 L 2.997735285568051,49.22358294434452 L 2.995264760442795,49.222791748378405 L 2.993755005402662,49.22253096808529 L 2.993000115949583,49.22253092661641 L 2.992451007026553,49.22320514731814 L 2.990804080305777,49.222494818884876 L 2.988443423149594,49.22210804327394 L 2.989322150157921,49.22057082316601 L 2.98944589297454,49.21949202480904 L 2.989240061663501,49.21932119503844 L 2.984697622112892,49.218169972606745 L 2.981774859664869,49.21683004118068 L 2.981816173130638,49.21642549254376 L 2.985082454505361,49.21623714869447 L 2.98520628823008,49.2151133993345 L 2.986304151789362,49.21511352907949 L 2.985453878868705,49.213081659779995 L 2.987087090990352,49.212263742684904 L 2.987841767224217,49.21253352557952 L 2.988596542491249,49.212389757014 L 2.987416759933736,49.21091525442495 L 2.988514436602606,49.21135588178503 L 2.990229852868242,49.21067278093545 z\" /></g></svg>"
      ],
      "text/plain": [
       "<shapely.geometry.polygon.Polygon at 0x7f3dc2eea910>"
      ]
     },
     "metadata": {},
     "output_type": "display_data"
    },
    {
     "name": "stdout",
     "output_type": "stream",
     "text": [
      "20214 CALENZANA\n",
      "Le premier polygone contient bien le second (1er polygone en vert, second en blanc)\n"
     ]
    },
    {
     "data": {
      "image/svg+xml": [
       "<svg xmlns=\"http://www.w3.org/2000/svg\" xmlns:xlink=\"http://www.w3.org/1999/xlink\" width=\"100.0\" height=\"100.0\" viewBox=\"8.637067922566075 42.39917683202368 0.2975972935757678 0.14883268349029066\" preserveAspectRatio=\"xMinYMin meet\"><g transform=\"matrix(1,0,0,-1,0,84.94718634753764)\"><path fill-rule=\"evenodd\" fill=\"#66cc99\" stroke=\"#555555\" stroke-width=\"0.0059519458715153566\" opacity=\"0.6\" d=\"M 8.911220447280732,42.41019895400797 L 8.884218573112888,42.41310234951923 L 8.863866173007997,42.42095028075512 L 8.846684793606927,42.416046396385504 L 8.838316952532919,42.41897560411348 L 8.836789371249292,42.42231317854986 L 8.8023692868082,42.43339827358766 L 8.79819839777502,42.450452944186374 L 8.7739670158796,42.46090936171262 L 8.760436392901257,42.45874025353867 L 8.734187483550514,42.44405196111259 L 8.717946113455694,42.45675911359143 L 8.694849777366148,42.459916844035796 L 8.679451771403478,42.46728232186558 L 8.675568392254068,42.4759158785741 L 8.653684943043109,42.47522349346573 L 8.648090044550363,42.47515090604124 L 8.664904902508646,42.495743019541386 L 8.664680436767005,42.51450092800105 L 8.67598577356893,42.518757120206644 L 8.684046884666499,42.51471331057626 L 8.698144842185041,42.52633500423127 L 8.720321323091616,42.524588109131 L 8.717443529306735,42.52891562101324 L 8.72816844736046,42.534261403273085 L 8.737368856147409,42.53511853059591 L 8.764326145116856,42.516736624027416 L 8.768908618921122,42.51601089721468 L 8.773468668708057,42.51678242174018 L 8.790128363492546,42.523080285720695 L 8.795441575528143,42.52872249454884 L 8.815314126597963,42.53698739352968 L 8.833731607359883,42.533456909413665 L 8.848440029106337,42.52443878958232 L 8.85791834018546,42.52344038061332 L 8.918912106966228,42.49798365541715 L 8.921589617434277,42.4918401478297 L 8.923643094157555,42.48543381818476 L 8.915817260300555,42.47371751474966 L 8.916452379291675,42.46737222355407 L 8.919039837719003,42.45951219719717 L 8.91389977314112,42.446150558972896 L 8.919920024130771,42.426066161414596 L 8.911220447280732,42.41019895400797 z M 8.809180140240144,42.484979112206645 L 8.816311008486878,42.4915213275486 L 8.816762686183734,42.49177608183159 L 8.819840053857737,42.49259045074663 L 8.821335988771134,42.493545268264775 L 8.823079810745918,42.49381048798737 L 8.825752613237484,42.494962297636974 L 8.826986392004617,42.49512014833811 L 8.82910500099272,42.49486901180609 L 8.829276549437543,42.496707445938064 L 8.829580227611583,42.497186583318175 L 8.830781210060751,42.498112361790696 L 8.832673060128652,42.50058673521263 L 8.83356669775345,42.50270112355627 L 8.833705786269741,42.50287378369778 L 8.835377249809419,42.50314278601585 L 8.835113317241165,42.50464453694336 L 8.835231329309233,42.50472821142813 L 8.837165361536568,42.50506393126444 L 8.837831734280169,42.50502741392107 L 8.8385452230494,42.50485310096332 L 8.839024464977575,42.50428599653648 L 8.839274406514486,42.50422722597692 L 8.839641467324132,42.50424315967664 L 8.840322193184635,42.504350062424976 L 8.84046893242044,42.504477226153874 L 8.840628269296003,42.50546002435145 L 8.84211360908064,42.50569406265298 L 8.842321392652043,42.505944072156524 L 8.842482967573487,42.50634083943751 L 8.842514401801427,42.50665460469942 L 8.841391203393327,42.506995634873185 L 8.841691898191508,42.50756505452506 L 8.843110026078566,42.50834360829138 L 8.843292712331742,42.508829358079254 L 8.843259077595196,42.509101623252484 L 8.84270620265844,42.50917701750359 L 8.842467088918394,42.51031688272373 L 8.84342975529805,42.510804924935265 L 8.843557716480452,42.51147395838524 L 8.842438922470324,42.511859825037135 L 8.8424847646872,42.51280378443772 L 8.840626833989754,42.514933814607744 L 8.840173581489617,42.51649104878482 L 8.838998566226847,42.51692502678536 L 8.838374696733748,42.517509071940545 L 8.838449653174509,42.51983960492225 L 8.835717105984765,42.51883550539514 L 8.83348998336092,42.51849774940227 L 8.827583107180283,42.514503308831266 L 8.825403189466334,42.51475773302598 L 8.821248142260643,42.51463329838946 L 8.821504692816902,42.51366381009808 L 8.82104844550933,42.511534428190025 L 8.818990432079065,42.509835079104846 L 8.815983268165446,42.508512018446766 L 8.81534008565235,42.50878148869203 L 8.814274395626578,42.50847910687334 L 8.808122080278885,42.51153685529732 L 8.805554457235248,42.5109557080238 L 8.80444176116519,42.512016858639996 L 8.804007826608142,42.511941348878295 L 8.802713314983508,42.513012384686675 L 8.801841868752636,42.512825488720544 L 8.801126447056129,42.51359455536334 L 8.800283533172625,42.513694530786815 L 8.799478956537758,42.514180001008896 L 8.79939060699547,42.51206659620101 L 8.800279771184142,42.51120696049175 L 8.800120655489458,42.50678992336781 L 8.801279525594886,42.504356237515246 L 8.801729044739105,42.502384816636955 L 8.801146695458655,42.50155122827984 L 8.801011458287302,42.497619664183404 L 8.801513757266203,42.49299540443863 L 8.802144209157282,42.49137468299407 L 8.80285087504749,42.4912550605508 L 8.803189824260286,42.49086703821704 L 8.804900839392367,42.48860153612912 L 8.805543262439825,42.48698014153599 L 8.809180140240144,42.484979112206645 z\" /></g></svg>"
      ],
      "text/plain": [
       "<shapely.geometry.polygon.Polygon at 0x7f3dc2eeae20>"
      ]
     },
     "metadata": {},
     "output_type": "display_data"
    },
    {
     "name": "stdout",
     "output_type": "stream",
     "text": [
      "05600 EYGLIERS\n",
      "Le premier polygone contient bien le second (1er polygone en vert, second en blanc)\n"
     ]
    },
    {
     "data": {
      "image/svg+xml": [
       "<svg xmlns=\"http://www.w3.org/2000/svg\" xmlns:xlink=\"http://www.w3.org/1999/xlink\" width=\"100.0\" height=\"100.0\" viewBox=\"6.599699645608282 44.65804804364628 0.12483653641611259 0.07470297143148485\" preserveAspectRatio=\"xMinYMin meet\"><g transform=\"matrix(1,0,0,-1,0,89.39079905872404)\"><path fill-rule=\"evenodd\" fill=\"#66cc99\" stroke=\"#555555\" stroke-width=\"0.002496730728322252\" opacity=\"0.6\" d=\"M 6.719912606601575,44.70392733592357 L 6.705622423180216,44.69418637163232 L 6.694592995209156,44.67842257386865 L 6.678172424486113,44.67050713004595 L 6.663799240184577,44.66817240846341 L 6.639597814376108,44.671630305339676 L 6.624522040742149,44.6626716190691 L 6.604323221031101,44.6688744021339 L 6.607458971709613,44.67957775961398 L 6.620832622948124,44.68247526737951 L 6.657632342820152,44.70447161356139 L 6.662520251385447,44.721127444237865 L 6.673392399523107,44.72752664405137 L 6.682977009053436,44.72812743965495 L 6.692370183456479,44.71675578970993 L 6.717960734642892,44.70709337553799 L 6.719912606601575,44.70392733592357 z M 6.624101201910619,44.66378490751487 L 6.624701396411337,44.66447720012042 L 6.625159106962226,44.66452527980393 L 6.626022775134737,44.665974969227086 L 6.629343384526289,44.6689031614428 L 6.629971802218035,44.669639565808055 L 6.630598688563117,44.671331321320444 L 6.630329998253381,44.672061126794794 L 6.62963681826345,44.67208388144737 L 6.62957266564568,44.67285203255323 L 6.62454458638363,44.67322423332667 L 6.621111607483866,44.67110166213916 L 6.619371919606142,44.66938320649464 L 6.619410660455411,44.667038758272284 L 6.619639003184399,44.666661782214305 L 6.620170252584697,44.66608563182057 L 6.621588459344685,44.6649667333808 L 6.622500865391905,44.66481968513803 L 6.623626397071357,44.66386355527676 L 6.624101201910619,44.66378490751487 z\" /></g></svg>"
      ],
      "text/plain": [
       "<shapely.geometry.polygon.Polygon at 0x7f3dc2eeaac0>"
      ]
     },
     "metadata": {},
     "output_type": "display_data"
    },
    {
     "name": "stdout",
     "output_type": "stream",
     "text": [
      "67920 SUNDHOUSE\n",
      "Le premier polygone contient bien le second (1er polygone en vert, second en blanc)\n"
     ]
    },
    {
     "data": {
      "image/svg+xml": [
       "<svg xmlns=\"http://www.w3.org/2000/svg\" xmlns:xlink=\"http://www.w3.org/1999/xlink\" width=\"100.0\" height=\"100.0\" viewBox=\"7.581600402022122 48.228466254791215 0.10312437692827459 0.049316530104484\" preserveAspectRatio=\"xMinYMin meet\"><g transform=\"matrix(1,0,0,-1,0,96.5062490396869)\"><path fill-rule=\"evenodd\" fill=\"#66cc99\" stroke=\"#555555\" stroke-width=\"0.0020624875385654917\" opacity=\"0.6\" d=\"M 7.594939251325704,48.23228567615893 L 7.588855304886924,48.23476653402034 L 7.585419823389836,48.23699100376812 L 7.590099868944651,48.24688554386628 L 7.587150338312436,48.249740049491464 L 7.610075838633886,48.267909618253555 L 7.639017955776632,48.27295056333101 L 7.653630657535059,48.27055524283416 L 7.667082532447679,48.27396336352798 L 7.66936576871601,48.263931552941195 L 7.680905357582683,48.25767924208412 L 7.679568700137115,48.25418093504633 L 7.67041855598691,48.25236190967315 L 7.662041614338972,48.2441753120173 L 7.645456370280476,48.23758231255902 L 7.628224805509612,48.244009432135904 L 7.618325878993045,48.2443789814865 L 7.594939251325704,48.23228567615893 z M 7.659757252394632,48.24443673498479 L 7.660072439961209,48.24738967792665 L 7.65856761798622,48.24899032637762 L 7.658392324285986,48.24990758309414 L 7.658553818054413,48.25020766410302 L 7.660591717641526,48.25219129807896 L 7.661357300568168,48.25352208834297 L 7.634106847591275,48.25902891423484 L 7.633356202849765,48.25694029319261 L 7.63123176472811,48.25718584853573 L 7.630266056949821,48.255105643572435 L 7.627724650992854,48.25567392793035 L 7.626731457684617,48.25343254054359 L 7.626307374978824,48.25352125777064 L 7.625923758813625,48.25314872334047 L 7.626712931044126,48.25153151245412 L 7.624750844380309,48.249012605292734 L 7.629541251262023,48.24716649492044 L 7.630403354712761,48.248070056872706 L 7.636493925241441,48.246893715150286 L 7.637925678333275,48.249054727226984 L 7.646353545230314,48.24576709450365 L 7.648307747756909,48.24772717509332 L 7.656868836937954,48.24565030708101 L 7.659757252394632,48.24443673498479 z\" /></g></svg>"
      ],
      "text/plain": [
       "<shapely.geometry.polygon.Polygon at 0x7f3dc2eeaa90>"
      ]
     },
     "metadata": {},
     "output_type": "display_data"
    },
    {
     "name": "stdout",
     "output_type": "stream",
     "text": [
      "68420 EGUISHEIM\n",
      "Le premier polygone contient bien le second (1er polygone en vert, second en blanc)\n"
     ]
    },
    {
     "data": {
      "image/svg+xml": [
       "<svg xmlns=\"http://www.w3.org/2000/svg\" xmlns:xlink=\"http://www.w3.org/1999/xlink\" width=\"100.0\" height=\"100.0\" viewBox=\"7.236926079120227 48.02009287848075 0.11738288540837605 0.03538261515183905\" preserveAspectRatio=\"xMinYMin meet\"><g transform=\"matrix(1,0,0,-1,0,96.07556837211334)\"><path fill-rule=\"evenodd\" fill=\"#66cc99\" stroke=\"#555555\" stroke-width=\"0.002347657708167521\" opacity=\"0.6\" d=\"M 7.281156117554148,48.02598189605906 L 7.24788891542066,48.02828773431485 L 7.241273593394611,48.03291530381733 L 7.242481315180386,48.036079987659186 L 7.254862722536156,48.04149954101626 L 7.30948275586246,48.051127979358206 L 7.327924015475516,48.045043626682386 L 7.343280960385735,48.04514455812271 L 7.349961450254219,48.039922797869906 L 7.347832293234761,48.027915659598186 L 7.347734843414252,48.02444039275514 L 7.308759651927675,48.03251706594283 L 7.294756205000829,48.0285141155033 L 7.281156117554148,48.02598189605906 z M 7.274952793134658,48.027189891271085 L 7.276532514741039,48.02761911200156 L 7.279682252704658,48.02968547685866 L 7.280874318253378,48.030137761045864 L 7.281196047454583,48.03079295066647 L 7.282335712442734,48.031427372142495 L 7.283910527591393,48.031793592833836 L 7.284906518630974,48.03247828505309 L 7.283499596968993,48.03385432418294 L 7.284959009807799,48.0342878212809 L 7.284449564362754,48.03529771901852 L 7.285073795850176,48.03703235114776 L 7.284269908316309,48.03706163472611 L 7.283651478556743,48.03821968962256 L 7.284792750319014,48.03970117449406 L 7.284317961706248,48.0424671692238 L 7.284697604691184,48.04366997860324 L 7.284500246582401,48.04372222740251 L 7.281159011489016,48.0439520168363 L 7.280773112675701,48.043335213293545 L 7.279744553102315,48.04324646853341 L 7.277676288351946,48.041933835091115 L 7.277457859287264,48.04172548784372 L 7.276876521080392,48.03985408667509 L 7.276055154932443,48.039667657731115 L 7.272447842546984,48.039095794430246 L 7.269058768225027,48.040228192176784 L 7.265896936496953,48.040180682869945 L 7.267104227395308,48.03882113654052 L 7.266410673411213,48.03705289805546 L 7.269858414672631,48.03731531004953 L 7.270853688414052,48.03582823197182 L 7.272688760450188,48.03525690773329 L 7.274558441543868,48.03594599038886 L 7.275001230812288,48.035605461820005 L 7.274461556169483,48.0349131192429 L 7.275816751494212,48.03422400045111 L 7.276091086277281,48.03362823888019 L 7.274799902506062,48.02845715019949 L 7.274952793134658,48.027189891271085 z\" /></g></svg>"
      ],
      "text/plain": [
       "<shapely.geometry.polygon.Polygon at 0x7f3dc2eeae80>"
      ]
     },
     "metadata": {},
     "output_type": "display_data"
    }
   ],
   "source": [
    "cities = get_cities_2_polygons()\n",
    "for (index, city) in cities.items():\n",
    "    display(check_first_poly_contains_second(index, city))"
   ]
  }
 ],
 "metadata": {
  "anaconda-cloud": {},
  "kernelspec": {
   "display_name": "Python 3 (ipykernel)",
   "language": "python",
   "name": "python3"
  },
  "language_info": {
   "codemirror_mode": {
    "name": "ipython",
    "version": 3
   },
   "file_extension": ".py",
   "mimetype": "text/x-python",
   "name": "python",
   "nbconvert_exporter": "python",
   "pygments_lexer": "ipython3",
   "version": "3.9.2"
  }
 },
 "nbformat": 4,
 "nbformat_minor": 1
}
